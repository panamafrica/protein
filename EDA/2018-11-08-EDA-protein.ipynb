{
 "cells": [
  {
   "cell_type": "markdown",
   "metadata": {},
   "source": [
    "# EDA\n",
    "\n",
    "\n"
   ]
  },
  {
   "cell_type": "markdown",
   "metadata": {},
   "source": [
    "# Train DataSet\n",
    "\n",
    "Датасет состоит из 31.072 изображений (сэмплов), каждому соответсвуют 4 канала-фильтра: red, green, blue и yellow. На изображениях присутсвуют метки месторасположения различных структур (органелл) белка. Всего в наборе данных присутсвуют 28 классов органелл белка, которые необходимо предсказать.\n",
    "\n",
    "\n",
    "### 1. Частотность лейблов в train \n",
    "\n",
    "Рассмотрим частостность встречаемости лейблов в наборе ланных \n",
    "\n",
    "<img src=\"newplot.png\">\n",
    "\n",
    "* Исходя из графика, предсавленного ниже, можно сделать вывод, что чаще всего встречаются Nucleoplasm, Cytosol и Plasma membrane. Скорее всего, будущая модель научится хорошо предсказывать данные классы, потому что они хорошо представленны в выборке.\n",
    "\n",
    "* Такие лейблы как Peroxisomes, Endosomes, Lysosomes and etc. очень редко встречаются в трейне ( меньше 100 примеров). Предсказывать такие классы будет очень сложно. При обученнии необходимо будет обратить особое внимание к данным классам. Например, при обучении ввести class_weights, или насэмплить еще примеров с данными классами.\n",
    "\n",
    "\n",
    "\n",
    "### 2. Количество классов на изображении\n",
    "\n",
    "В большинстве сэмплах присутсвует либо один класс, либо представленно два класса. Очень редко встречаются больше чем три класса на изображении.  \n",
    "\n",
    "<img src=\"newplot_1.png\">\n",
    "\n",
    "\n",
    "\n",
    "\n",
    "\n",
    "### 3. Связь между лейблами \n",
    "\n",
    "*  Классы Endosomes и Lysosomes встречаются очень часто. Также вместе с ними иногда присутсвует Endoplasmic reticulum.\n",
    "\n",
    "Это объясняется тем, что при образовании лизосом учавствуют эндосомы (пузырьки), вблизи ( на поверхности) мембран эндоплазматического ретикулума\n",
    "\n",
    "* У классов Cytokinetic bridge и Mitotic spindle; Cytokinetic bridge и Microtubles наблюдается небольшая положительная корреляция.\n",
    "\n",
    "\n",
    "\n",
    "\n",
    "\n"
   ]
  },
  {
   "cell_type": "markdown",
   "metadata": {},
   "source": [
    "<img src=\"protein-correlation.png\">"
   ]
  },
  {
   "cell_type": "code",
   "execution_count": null,
   "metadata": {},
   "outputs": [],
   "source": []
  },
  {
   "cell_type": "code",
   "execution_count": null,
   "metadata": {},
   "outputs": [],
   "source": []
  },
  {
   "cell_type": "code",
   "execution_count": null,
   "metadata": {},
   "outputs": [],
   "source": []
  },
  {
   "cell_type": "code",
   "execution_count": null,
   "metadata": {},
   "outputs": [],
   "source": []
  },
  {
   "cell_type": "code",
   "execution_count": null,
   "metadata": {},
   "outputs": [],
   "source": []
  },
  {
   "cell_type": "code",
   "execution_count": 2,
   "metadata": {},
   "outputs": [
    {
     "name": "stderr",
     "output_type": "stream",
     "text": [
      "/usr/local/lib/python3.5/dist-packages/h5py/__init__.py:36: FutureWarning: Conversion of the second argument of issubdtype from `float` to `np.floating` is deprecated. In future, it will be treated as `np.float64 == np.dtype(float).type`.\n",
      "  from ._conv import register_converters as _register_converters\n"
     ]
    }
   ],
   "source": [
    "import numpy as np # linear algebra\n",
    "import pandas as pd # data processing, CSV file I/O (e.g. pd.read_csv)\n",
    "\n",
    "import seaborn as sns\n",
    "import matplotlib.pyplot as plt\n",
    "%matplotlib inline\n",
    "from PIL import Image\n",
    "from scipy.misc import imread\n",
    "\n",
    "import pickle\n",
    "\n",
    "import tensorflow as tf\n",
    "sns.set()\n",
    "\n",
    "import os\n",
    "\n"
   ]
  },
  {
   "cell_type": "code",
   "execution_count": 3,
   "metadata": {},
   "outputs": [
    {
     "data": {
      "text/html": [
       "<div>\n",
       "<style scoped>\n",
       "    .dataframe tbody tr th:only-of-type {\n",
       "        vertical-align: middle;\n",
       "    }\n",
       "\n",
       "    .dataframe tbody tr th {\n",
       "        vertical-align: top;\n",
       "    }\n",
       "\n",
       "    .dataframe thead th {\n",
       "        text-align: right;\n",
       "    }\n",
       "</style>\n",
       "<table border=\"1\" class=\"dataframe\">\n",
       "  <thead>\n",
       "    <tr style=\"text-align: right;\">\n",
       "      <th></th>\n",
       "      <th>Id</th>\n",
       "      <th>Target</th>\n",
       "    </tr>\n",
       "  </thead>\n",
       "  <tbody>\n",
       "    <tr>\n",
       "      <th>0</th>\n",
       "      <td>00070df0-bbc3-11e8-b2bc-ac1f6b6435d0</td>\n",
       "      <td>16 0</td>\n",
       "    </tr>\n",
       "    <tr>\n",
       "      <th>1</th>\n",
       "      <td>000a6c98-bb9b-11e8-b2b9-ac1f6b6435d0</td>\n",
       "      <td>7 1 2 0</td>\n",
       "    </tr>\n",
       "    <tr>\n",
       "      <th>2</th>\n",
       "      <td>000a9596-bbc4-11e8-b2bc-ac1f6b6435d0</td>\n",
       "      <td>5</td>\n",
       "    </tr>\n",
       "    <tr>\n",
       "      <th>3</th>\n",
       "      <td>000c99ba-bba4-11e8-b2b9-ac1f6b6435d0</td>\n",
       "      <td>1</td>\n",
       "    </tr>\n",
       "    <tr>\n",
       "      <th>4</th>\n",
       "      <td>001838f8-bbca-11e8-b2bc-ac1f6b6435d0</td>\n",
       "      <td>18</td>\n",
       "    </tr>\n",
       "  </tbody>\n",
       "</table>\n",
       "</div>"
      ],
      "text/plain": [
       "                                     Id   Target\n",
       "0  00070df0-bbc3-11e8-b2bc-ac1f6b6435d0     16 0\n",
       "1  000a6c98-bb9b-11e8-b2b9-ac1f6b6435d0  7 1 2 0\n",
       "2  000a9596-bbc4-11e8-b2bc-ac1f6b6435d0        5\n",
       "3  000c99ba-bba4-11e8-b2b9-ac1f6b6435d0        1\n",
       "4  001838f8-bbca-11e8-b2bc-ac1f6b6435d0       18"
      ]
     },
     "execution_count": 3,
     "metadata": {},
     "output_type": "execute_result"
    }
   ],
   "source": [
    "train_labels = pd.read_csv(\"../ceph-data/kaggle-protein/train.csv\")\n",
    "train_labels.head()"
   ]
  },
  {
   "cell_type": "code",
   "execution_count": 4,
   "metadata": {},
   "outputs": [
    {
     "data": {
      "text/plain": [
       "(31072, 2)"
      ]
     },
     "execution_count": 4,
     "metadata": {},
     "output_type": "execute_result"
    }
   ],
   "source": [
    "train_labels.shape"
   ]
  },
  {
   "cell_type": "raw",
   "metadata": {},
   "source": [
    "import pickle\n",
    "\n",
    "pickle_out = open(\"dict_labels.pickle\",\"wb\")\n",
    "pickle.dump(label_names, pickle_out)\n",
    "pickle_out.close()"
   ]
  },
  {
   "cell_type": "code",
   "execution_count": 5,
   "metadata": {},
   "outputs": [],
   "source": [
    "pickle_in = open(\"dict_labels.pickle\",\"rb\")\n",
    "label_names = pickle.load(pickle_in)"
   ]
  },
  {
   "cell_type": "code",
   "execution_count": 6,
   "metadata": {},
   "outputs": [],
   "source": [
    "reverse_train_labels = dict((v,k) for k,v in label_names.items())\n",
    "\n",
    "def fill_targets(row):\n",
    "    row.Target = np.array(row.Target.split(\" \")).astype(np.int)\n",
    "    for num in row.Target:\n",
    "        name = label_names[int(num)]\n",
    "        row.loc[name] = 1\n",
    "    return row"
   ]
  },
  {
   "cell_type": "code",
   "execution_count": 7,
   "metadata": {},
   "outputs": [],
   "source": [
    "for key in label_names.keys():\n",
    "    train_labels[label_names[key]] = 0\n",
    "    "
   ]
  },
  {
   "cell_type": "code",
   "execution_count": 8,
   "metadata": {},
   "outputs": [
    {
     "data": {
      "text/html": [
       "<div>\n",
       "<style scoped>\n",
       "    .dataframe tbody tr th:only-of-type {\n",
       "        vertical-align: middle;\n",
       "    }\n",
       "\n",
       "    .dataframe tbody tr th {\n",
       "        vertical-align: top;\n",
       "    }\n",
       "\n",
       "    .dataframe thead th {\n",
       "        text-align: right;\n",
       "    }\n",
       "</style>\n",
       "<table border=\"1\" class=\"dataframe\">\n",
       "  <thead>\n",
       "    <tr style=\"text-align: right;\">\n",
       "      <th></th>\n",
       "      <th>Id</th>\n",
       "      <th>Target</th>\n",
       "      <th>Nucleoplasm</th>\n",
       "      <th>Nuclear membrane</th>\n",
       "      <th>Nucleoli</th>\n",
       "      <th>Nucleoli fibrillar center</th>\n",
       "      <th>Nuclear speckles</th>\n",
       "      <th>Nuclear bodies</th>\n",
       "      <th>Endoplasmic reticulum</th>\n",
       "      <th>Golgi apparatus</th>\n",
       "      <th>...</th>\n",
       "      <th>Microtubule organizing center</th>\n",
       "      <th>Centrosome</th>\n",
       "      <th>Lipid droplets</th>\n",
       "      <th>Plasma membrane</th>\n",
       "      <th>Cell junctions</th>\n",
       "      <th>Mitochondria</th>\n",
       "      <th>Aggresome</th>\n",
       "      <th>Cytosol</th>\n",
       "      <th>Cytoplasmic bodies</th>\n",
       "      <th>Rods &amp; rings</th>\n",
       "    </tr>\n",
       "  </thead>\n",
       "  <tbody>\n",
       "    <tr>\n",
       "      <th>0</th>\n",
       "      <td>00070df0-bbc3-11e8-b2bc-ac1f6b6435d0</td>\n",
       "      <td>[16, 0]</td>\n",
       "      <td>1</td>\n",
       "      <td>0</td>\n",
       "      <td>0</td>\n",
       "      <td>0</td>\n",
       "      <td>0</td>\n",
       "      <td>0</td>\n",
       "      <td>0</td>\n",
       "      <td>0</td>\n",
       "      <td>...</td>\n",
       "      <td>0</td>\n",
       "      <td>0</td>\n",
       "      <td>0</td>\n",
       "      <td>0</td>\n",
       "      <td>0</td>\n",
       "      <td>0</td>\n",
       "      <td>0</td>\n",
       "      <td>0</td>\n",
       "      <td>0</td>\n",
       "      <td>0</td>\n",
       "    </tr>\n",
       "    <tr>\n",
       "      <th>1</th>\n",
       "      <td>000a6c98-bb9b-11e8-b2b9-ac1f6b6435d0</td>\n",
       "      <td>[7, 1, 2, 0]</td>\n",
       "      <td>1</td>\n",
       "      <td>1</td>\n",
       "      <td>1</td>\n",
       "      <td>0</td>\n",
       "      <td>0</td>\n",
       "      <td>0</td>\n",
       "      <td>0</td>\n",
       "      <td>1</td>\n",
       "      <td>...</td>\n",
       "      <td>0</td>\n",
       "      <td>0</td>\n",
       "      <td>0</td>\n",
       "      <td>0</td>\n",
       "      <td>0</td>\n",
       "      <td>0</td>\n",
       "      <td>0</td>\n",
       "      <td>0</td>\n",
       "      <td>0</td>\n",
       "      <td>0</td>\n",
       "    </tr>\n",
       "  </tbody>\n",
       "</table>\n",
       "<p>2 rows × 30 columns</p>\n",
       "</div>"
      ],
      "text/plain": [
       "                                     Id        Target  Nucleoplasm  \\\n",
       "0  00070df0-bbc3-11e8-b2bc-ac1f6b6435d0       [16, 0]            1   \n",
       "1  000a6c98-bb9b-11e8-b2b9-ac1f6b6435d0  [7, 1, 2, 0]            1   \n",
       "\n",
       "   Nuclear membrane  Nucleoli  Nucleoli fibrillar center  Nuclear speckles  \\\n",
       "0                 0         0                          0                 0   \n",
       "1                 1         1                          0                 0   \n",
       "\n",
       "   Nuclear bodies  Endoplasmic reticulum  Golgi apparatus      ...       \\\n",
       "0               0                      0                0      ...        \n",
       "1               0                      0                1      ...        \n",
       "\n",
       "   Microtubule organizing center  Centrosome  Lipid droplets  Plasma membrane  \\\n",
       "0                              0           0               0                0   \n",
       "1                              0           0               0                0   \n",
       "\n",
       "   Cell junctions  Mitochondria  Aggresome  Cytosol  Cytoplasmic bodies  \\\n",
       "0               0             0          0        0                   0   \n",
       "1               0             0          0        0                   0   \n",
       "\n",
       "   Rods & rings  \n",
       "0             0  \n",
       "1             0  \n",
       "\n",
       "[2 rows x 30 columns]"
      ]
     },
     "execution_count": 8,
     "metadata": {},
     "output_type": "execute_result"
    }
   ],
   "source": [
    "train_labels = train_labels.apply(fill_targets, axis=1)\n",
    "train_labels.head(2)"
   ]
  },
  {
   "cell_type": "code",
   "execution_count": 9,
   "metadata": {},
   "outputs": [],
   "source": [
    "count_labels = train_labels.drop([\"Id\", \"Target\"],axis=1).sum(axis=0).sort_values(ascending=False)\n"
   ]
  },
  {
   "cell_type": "code",
   "execution_count": 11,
   "metadata": {},
   "outputs": [],
   "source": [
    "df_labels = pd.DataFrame(count_labels).reset_index()\n",
    "df_labels.rename(columns={\"index\":\"Name\", 0:\"counts\"}, inplace=True)"
   ]
  },
  {
   "cell_type": "markdown",
   "metadata": {},
   "source": [
    "### 1. Частотность лейблов в трейне "
   ]
  },
  {
   "cell_type": "code",
   "execution_count": 15,
   "metadata": {},
   "outputs": [
    {
     "data": {
      "image/png": "[encoded data removed]",
      "text/plain": [
       "<matplotlib.figure.Figure at 0x7fbc76d7b198>"
      ]
     },
     "metadata": {},
     "output_type": "display_data"
    }
   ],
   "source": [
    "import seaborn as sns\n",
    "sns.set(style=\"whitegrid\")\n",
    "plt.figure(figsize=(15,15))\n",
    "ax = sns.barplot(x=\"counts\", y=\"Name\", data=df_labels)"
   ]
  },
  {
   "cell_type": "code",
   "execution_count": 17,
   "metadata": {},
   "outputs": [],
   "source": [
    "import plotly.plotly as py\n",
    "import plotly.graph_objs as go\n",
    "from plotly.graph_objs import *\n",
    "py.sign_in('Panamka', 'Xri9H3CiQvu3KNoZq2jp')"
   ]
  },
  {
   "cell_type": "raw",
   "metadata": {},
   "source": [
    "data = [go.Bar(\n",
    "            x=df_labels.Name,\n",
    "            y=df_labels.counts\n",
    "    )]\n",
    "layout = go.Layout(\n",
    "    title='Распределение классов в трейне',\n",
    ")\n",
    "fig = go.Figure(data=data, layout=layout)\n",
    "py.iplot(fig, filename='protein-bar')"
   ]
  },
  {
   "cell_type": "markdown",
   "metadata": {},
   "source": [
    "### 2. Сколько лейблов встречаются на изображении "
   ]
  },
  {
   "cell_type": "code",
   "execution_count": 93,
   "metadata": {},
   "outputs": [],
   "source": [
    "train_labels['all_target']= train_labels.Target.apply(lambda x: len(x))\n",
    "label_value = train_labels[['Id', 'all_target']].groupby('all_target').count()"
   ]
  },
  {
   "cell_type": "code",
   "execution_count": 99,
   "metadata": {},
   "outputs": [],
   "source": [
    "label_value.reset_index(inplace=True)"
   ]
  },
  {
   "cell_type": "raw",
   "metadata": {},
   "source": [
    "data = [go.Bar(\n",
    "            x=label_value.all_target,\n",
    "            y=label_value.Id\n",
    "    )]\n",
    "layout = go.Layout(\n",
    "    title='Количество классов на одном изображении',\n",
    ")\n",
    "fig = go.Figure(data=data, layout=layout)\n",
    "py.iplot(fig, filename='protein-bar-2')"
   ]
  },
  {
   "cell_type": "markdown",
   "metadata": {},
   "source": [
    "### 3. Корреляция между классами "
   ]
  },
  {
   "cell_type": "raw",
   "metadata": {},
   "source": [
    "train_labels.drop(columns=['all_target'], inplace=True)"
   ]
  },
  {
   "cell_type": "code",
   "execution_count": 148,
   "metadata": {},
   "outputs": [],
   "source": [
    "train_labels[\"number_of_targets\"] = train_labels.drop([\"Id\", \"Target\"],axis=1).sum(axis=1)"
   ]
  },
  {
   "cell_type": "code",
   "execution_count": 149,
   "metadata": {},
   "outputs": [],
   "source": [
    "z=train_labels[train_labels.number_of_targets>1].drop([\"Id\", \"Target\", \"number_of_targets\"],axis=1).corr()"
   ]
  },
  {
   "cell_type": "raw",
   "metadata": {},
   "source": [
    "trace = go.Heatmap(z=z.values,\n",
    "                  x=z.index,\n",
    "                  y=z.index)\n",
    "data=[trace]\n",
    "py.iplot(data, filename='protein-correlation')"
   ]
  },
  {
   "cell_type": "code",
   "execution_count": null,
   "metadata": {},
   "outputs": [],
   "source": [
    "train_path = \"../ceph-data/kaggle-protein/train.csv/\""
   ]
  },
  {
   "cell_type": "code",
   "execution_count": 7,
   "metadata": {},
   "outputs": [],
   "source": [
    "TRAIN = '../ceph-data/kaggle-protein/train/'\n",
    "TEST = '../ceph-data/kaggle-protein/test/'\n",
    "\n",
    "LABELS = '../ceph-data/kaggle-protein/train.csv'\n",
    "SAMPLE = '../ceph-data/kaggle-protein/sample_submission.csv'"
   ]
  },
  {
   "cell_type": "code",
   "execution_count": 158,
   "metadata": {},
   "outputs": [
    {
     "ename": "NameError",
     "evalue": "name 'train_test_split' is not defined",
     "output_type": "error",
     "traceback": [
      "\u001b[0;31m---------------------------------------------------------------------------\u001b[0m",
      "\u001b[0;31mNameError\u001b[0m                                 Traceback (most recent call last)",
      "\u001b[0;32m<ipython-input-158-06947458eef8>\u001b[0m in \u001b[0;36m<module>\u001b[0;34m()\u001b[0m\n\u001b[1;32m      1\u001b[0m \u001b[0mtrain_names\u001b[0m \u001b[0;34m=\u001b[0m \u001b[0mlist\u001b[0m\u001b[0;34m(\u001b[0m\u001b[0;34m{\u001b[0m\u001b[0mf\u001b[0m\u001b[0;34m[\u001b[0m\u001b[0;34m:\u001b[0m\u001b[0;36m36\u001b[0m\u001b[0;34m]\u001b[0m \u001b[0;32mfor\u001b[0m \u001b[0mf\u001b[0m \u001b[0;32min\u001b[0m \u001b[0mos\u001b[0m\u001b[0;34m.\u001b[0m\u001b[0mlistdir\u001b[0m\u001b[0;34m(\u001b[0m\u001b[0mTRAIN\u001b[0m\u001b[0;34m)\u001b[0m\u001b[0;34m}\u001b[0m\u001b[0;34m)\u001b[0m\u001b[0;34m\u001b[0m\u001b[0m\n\u001b[1;32m      2\u001b[0m \u001b[0mtest_names\u001b[0m \u001b[0;34m=\u001b[0m \u001b[0mlist\u001b[0m\u001b[0;34m(\u001b[0m\u001b[0;34m{\u001b[0m\u001b[0mf\u001b[0m\u001b[0;34m[\u001b[0m\u001b[0;34m:\u001b[0m\u001b[0;36m36\u001b[0m\u001b[0;34m]\u001b[0m \u001b[0;32mfor\u001b[0m \u001b[0mf\u001b[0m \u001b[0;32min\u001b[0m \u001b[0mos\u001b[0m\u001b[0;34m.\u001b[0m\u001b[0mlistdir\u001b[0m\u001b[0;34m(\u001b[0m\u001b[0mTEST\u001b[0m\u001b[0;34m)\u001b[0m\u001b[0;34m}\u001b[0m\u001b[0;34m)\u001b[0m\u001b[0;34m\u001b[0m\u001b[0m\n\u001b[0;32m----> 3\u001b[0;31m \u001b[0mtr_n\u001b[0m\u001b[0;34m,\u001b[0m \u001b[0mval_n\u001b[0m \u001b[0;34m=\u001b[0m \u001b[0mtrain_test_split\u001b[0m\u001b[0;34m(\u001b[0m\u001b[0mtrain_names\u001b[0m\u001b[0;34m,\u001b[0m \u001b[0mtest_size\u001b[0m\u001b[0;34m=\u001b[0m\u001b[0;36m0.1\u001b[0m\u001b[0;34m,\u001b[0m \u001b[0mrandom_state\u001b[0m\u001b[0;34m=\u001b[0m\u001b[0;36m42\u001b[0m\u001b[0;34m)\u001b[0m\u001b[0;34m\u001b[0m\u001b[0m\n\u001b[0m",
      "\u001b[0;31mNameError\u001b[0m: name 'train_test_split' is not defined"
     ]
    }
   ],
   "source": [
    "train_names = list({f[:36] for f in os.listdir(TRAIN)})\n",
    "test_names = list({f[:36] for f in os.listdir(TEST)})\n",
    "tr_n, val_n = train_test_split(train_names, test_size=0.1, random_state=42)"
   ]
  },
  {
   "cell_type": "markdown",
   "metadata": {},
   "source": [
    "# 4. Load data "
   ]
  },
  {
   "cell_type": "code",
   "execution_count": 19,
   "metadata": {},
   "outputs": [
    {
     "name": "stdout",
     "output_type": "stream",
     "text": [
      "f3db54f0-bbae-11e8-b2ba-ac1f6b6435d0_green.png\n",
      "3428e490-bb9c-11e8-b2b9-ac1f6b6435d0_red.png\n",
      "d3dcc7ee-bbac-11e8-b2ba-ac1f6b6435d0_green.png\n",
      "b55bda66-bba8-11e8-b2ba-ac1f6b6435d0_green.png\n",
      "f21b2d8e-bbbd-11e8-b2ba-ac1f6b6435d0_yellow.png\n",
      "fc7a16aa-bba9-11e8-b2ba-ac1f6b6435d0_blue.png\n",
      "0419ecaa-bb9b-11e8-b2b9-ac1f6b6435d0_blue.png\n",
      "151715cc-bba6-11e8-b2ba-ac1f6b6435d0_green.png\n",
      "3ad2d756-bbc4-11e8-b2bc-ac1f6b6435d0_blue.png\n",
      "0c3fc23e-bba4-11e8-b2b9-ac1f6b6435d0_red.png\n"
     ]
    }
   ],
   "source": [
    "from os import listdir\n",
    "\n",
    "files = listdir(\"../ceph-data/kaggle-protein/train\")\n",
    "for n in range(10):\n",
    "    print(files[n])"
   ]
  },
  {
   "cell_type": "code",
   "execution_count": 20,
   "metadata": {},
   "outputs": [
    {
     "data": {
      "text/plain": [
       "31072"
      ]
     },
     "execution_count": 20,
     "metadata": {},
     "output_type": "execute_result"
    }
   ],
   "source": [
    "train_labels.shape[0]"
   ]
  },
  {
   "cell_type": "code",
   "execution_count": null,
   "metadata": {},
   "outputs": [],
   "source": []
  }
 ],
 "metadata": {
  "kernelspec": {
   "display_name": "Python 3",
   "language": "python",
   "name": "python3"
  },
  "language_info": {
   "codemirror_mode": {
    "name": "ipython",
    "version": 3
   },
   "file_extension": ".py",
   "mimetype": "text/x-python",
   "name": "python",
   "nbconvert_exporter": "python",
   "pygments_lexer": "ipython3",
   "version": "3.5.2"
  }
 },
 "nbformat": 4,
 "nbformat_minor": 2
}
